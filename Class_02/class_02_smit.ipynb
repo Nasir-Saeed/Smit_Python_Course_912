{
  "cells": [
    {
      "cell_type": "markdown",
      "source": [
        "***Saylani Class 02***"
      ],
      "metadata": {
        "id": "FhB4ZDlsVTzx"
      }
    },
    {
      "cell_type": "markdown",
      "source": [
        "# Variables In Python\n",
        "\n",
        "*   String\n",
        "*   Boolean\n",
        "*   Int\n",
        "*   Float\n",
        "\n",
        "\n"
      ],
      "metadata": {
        "id": "WJblBAtcXLmh"
      }
    },
    {
      "cell_type": "code",
      "source": [
        "print(\"Hello World\")"
      ],
      "metadata": {
        "id": "ZZMElcLJUI3E",
        "outputId": "7b229f84-51e9-4bb5-e659-2cac56193a39",
        "colab": {
          "base_uri": "https://localhost:8080/"
        }
      },
      "execution_count": null,
      "outputs": [
        {
          "output_type": "stream",
          "name": "stdout",
          "text": [
            "Hello World\n"
          ]
        }
      ]
    },
    {
      "cell_type": "code",
      "source": [
        "# String\n",
        "name = \"Nasir\"\n",
        "print(name)\n",
        "# type is used for knowing the type of any variable\n",
        "print(type(name))\n",
        "# id for use a memory location\n",
        "id(name)"
      ],
      "metadata": {
        "id": "539uT11IULwh",
        "outputId": "e2d0afb9-fce3-46dc-a966-2616491ae1bc",
        "colab": {
          "base_uri": "https://localhost:8080/"
        }
      },
      "execution_count": 1,
      "outputs": [
        {
          "output_type": "stream",
          "name": "stdout",
          "text": [
            "Nasir\n",
            "<class 'str'>\n"
          ]
        },
        {
          "output_type": "execute_result",
          "data": {
            "text/plain": [
              "139602863701744"
            ]
          },
          "metadata": {},
          "execution_count": 1
        }
      ]
    },
    {
      "cell_type": "code",
      "source": [
        "print(\"Nasir said \\\"Today is Off \\\"\");"
      ],
      "metadata": {
        "id": "y_3P4ZHHUcDz",
        "colab": {
          "base_uri": "https://localhost:8080/"
        },
        "outputId": "01724949-92e7-427a-9090-cca0c14f2109"
      },
      "execution_count": 3,
      "outputs": [
        {
          "output_type": "stream",
          "name": "stdout",
          "text": [
            "Nasir said \"Today is Off \"\n"
          ]
        }
      ]
    },
    {
      "cell_type": "code",
      "source": [
        "# multiline string (''') for print a paragraph\n",
        "poem = '''Humpty Dumpty sat on a wall,\n",
        "Humpty Dumpty had a great fall;\n",
        "All the king's horses and all the king's men\n",
        "Couldn't put Humpty together again'''\n",
        "print(poem)"
      ],
      "metadata": {
        "colab": {
          "base_uri": "https://localhost:8080/"
        },
        "id": "xsUdrnHVWCV6",
        "outputId": "36794a16-a9e9-4c3d-9940-e80b3a714f83"
      },
      "execution_count": 5,
      "outputs": [
        {
          "output_type": "stream",
          "name": "stdout",
          "text": [
            "Humpty Dumpty sat on a wall,\n",
            "Humpty Dumpty had a great fall;\n",
            "All the king's horses and all the king's men\n",
            "Couldn't put Humpty together again\n"
          ]
        }
      ]
    },
    {
      "cell_type": "code",
      "source": [
        "# Integer\n",
        "age = 15\n",
        "print(age)\n",
        "print(type(age))\n",
        "age = int('15')\n",
        "print(type(age))"
      ],
      "metadata": {
        "colab": {
          "base_uri": "https://localhost:8080/"
        },
        "id": "SvkCfRNJWXGj",
        "outputId": "9bc07af0-40be-4dfa-9906-fbe93711a277"
      },
      "execution_count": 10,
      "outputs": [
        {
          "output_type": "stream",
          "name": "stdout",
          "text": [
            "15\n",
            "<class 'int'>\n",
            "<class 'int'>\n"
          ]
        }
      ]
    },
    {
      "cell_type": "code",
      "source": [
        "# float\n",
        "piNumber = 3.124\n",
        "print(piNumber)"
      ],
      "metadata": {
        "colab": {
          "base_uri": "https://localhost:8080/"
        },
        "id": "lvR_iTomWm_3",
        "outputId": "367a0a50-9603-47db-85ec-5ebc9d4c0f5a"
      },
      "execution_count": 7,
      "outputs": [
        {
          "output_type": "stream",
          "name": "stdout",
          "text": [
            "3.124\n"
          ]
        }
      ]
    },
    {
      "cell_type": "code",
      "source": [
        "# Boolean\n",
        "is_present = True\n",
        "print(is_present)"
      ],
      "metadata": {
        "colab": {
          "base_uri": "https://localhost:8080/"
        },
        "id": "lAXXp4qSWwEH",
        "outputId": "2153b421-5017-4a41-9ebf-ea14858cf8f0"
      },
      "execution_count": 8,
      "outputs": [
        {
          "output_type": "stream",
          "name": "stdout",
          "text": [
            "True\n"
          ]
        }
      ]
    },
    {
      "cell_type": "markdown",
      "source": [
        "# Operators In Python\n",
        "\n",
        "+, -, /, *\n",
        "\n",
        "*   floor\n",
        "*   ceil"
      ],
      "metadata": {
        "id": "yVERYcilcTo_"
      }
    },
    {
      "cell_type": "code",
      "source": [
        "print(\"The Sum of 2 + 2\", 2+2);\n",
        "print(\"The Subtraction of 4 - 2\",4-2);\n",
        "print(\"The Multiplication of 3 * 3\",3*3);\n",
        "print(\"The Division of 10 / 2\",10/2);\n",
        "\n",
        "# floor round off to lower point\n",
        "import math;\n",
        "age = math.floor(4.3);\n",
        "print(age);\n",
        "\n",
        "# ceil round off to upper point\n",
        "import math;\n",
        "age = math.ceil(4.3);\n",
        "print(age);"
      ],
      "metadata": {
        "colab": {
          "base_uri": "https://localhost:8080/"
        },
        "id": "yy0KTATncsmR",
        "outputId": "906c92d3-23bb-4ff7-d9db-3fc8c0f310f9"
      },
      "execution_count": 21,
      "outputs": [
        {
          "output_type": "stream",
          "name": "stdout",
          "text": [
            "The Sum of 2 + 2 4\n",
            "The Subtraction of 4 - 2 2\n",
            "The Multiplication of 3 * 3 9\n",
            "The Division of 10 / 2 5.0\n",
            "4\n",
            "5\n"
          ]
        }
      ]
    },
    {
      "cell_type": "markdown",
      "source": [
        "# Keywords\n",
        "\n",
        "- True, False\n",
        "- import\n",
        "- def\n",
        "- if, else, else if"
      ],
      "metadata": {
        "id": "gRx2HBGnjBLa"
      }
    },
    {
      "cell_type": "code",
      "source": [
        "var_True = \"Nasir\"\n",
        "print(var_True)"
      ],
      "metadata": {
        "colab": {
          "base_uri": "https://localhost:8080/"
        },
        "id": "7lR9Eq97jQq_",
        "outputId": "1f63162f-63aa-4404-ddec-c25f80d40975"
      },
      "execution_count": 22,
      "outputs": [
        {
          "output_type": "stream",
          "name": "stdout",
          "text": [
            "Nasir\n"
          ]
        }
      ]
    },
    {
      "cell_type": "markdown",
      "source": [
        "# Some More Operators"
      ],
      "metadata": {
        "id": "_BLNvh2FkUQi"
      }
    },
    {
      "cell_type": "code",
      "source": [
        "# % modulus and it returns Remainder\n",
        "age = 9%4\n",
        "print(age)"
      ],
      "metadata": {
        "colab": {
          "base_uri": "https://localhost:8080/"
        },
        "id": "F2JAhtfgjmfG",
        "outputId": "66b68bbb-d589-4d9a-8637-beb6bc3f4373"
      },
      "execution_count": 26,
      "outputs": [
        {
          "output_type": "stream",
          "name": "stdout",
          "text": [
            "1\n"
          ]
        }
      ]
    },
    {
      "cell_type": "code",
      "source": [
        "# Increamental Operator\n",
        "age = 15\n",
        "age += 5\n",
        "print(age)\n",
        "\n",
        "# second method\n",
        "\n",
        "age = 15\n",
        "age = age + 5\n",
        "print(age)\n",
        "\n",
        "age = 15\n",
        "age -= 5\n",
        "print(age)\n",
        "\n",
        "age = 10\n",
        "age /= 2\n",
        "print(age)"
      ],
      "metadata": {
        "colab": {
          "base_uri": "https://localhost:8080/"
        },
        "id": "7Z0mBYrtkcJp",
        "outputId": "8c12732d-d4e6-4160-b0d2-b4395478f702"
      },
      "execution_count": 33,
      "outputs": [
        {
          "output_type": "stream",
          "name": "stdout",
          "text": [
            "20\n",
            "20\n",
            "10\n",
            "5.0\n"
          ]
        }
      ]
    },
    {
      "cell_type": "markdown",
      "source": [
        "\n",
        "# Expression"
      ],
      "metadata": {
        "id": "G0s4gTvhlyQi"
      }
    },
    {
      "cell_type": "code",
      "source": [
        "# apply Bodmas Rule\n",
        "c1 = 1 + 3 - 2 * 4\n",
        "print(c1)\n",
        "\n",
        "c2 = 1 + (3 - 2 ) * 4\n",
        "print(c2)\n",
        "\n",
        "# power will solve always at first place\n",
        "c3 = 1 + (3 -2) / 2**4\n",
        "print(c3)"
      ],
      "metadata": {
        "colab": {
          "base_uri": "https://localhost:8080/"
        },
        "id": "nqQIVOI3mEo6",
        "outputId": "bbe93ab8-ac5e-4962-f02f-d285dcbbf5fc"
      },
      "execution_count": 38,
      "outputs": [
        {
          "output_type": "stream",
          "name": "stdout",
          "text": [
            "-4\n",
            "5\n",
            "1.0625\n"
          ]
        }
      ]
    },
    {
      "cell_type": "markdown",
      "source": [
        "# Concatenation"
      ],
      "metadata": {
        "id": "IqZBefFUndb6"
      }
    },
    {
      "cell_type": "code",
      "source": [
        "\"Nasir\" + \"Saeed\" # output 'NasirSaeed'\n",
        "\"Nasir\",\"Saeed\" # will convert into tuple output (\"Nasir\" , \"Saeed\")\n",
        "print(\"Nasir\" , \"Saeed\")\n",
        "\n",
        "name, age, is_present\n",
        "\n",
        "# Method One for Concatenation use for \" , \" , will do by default typecasting\n",
        "\n",
        "print(\"Student Name :\" , name)\n",
        "print(\"Student Age : \", age)\n",
        "weight = '60Kg'\n",
        "print(\"Student Weight : \" , weight)\n",
        "print(\"Student is Present : \", is_present )\n",
        "\n",
        "# Method Second for Concatenation use for \" + \"\n",
        "\n",
        "print(\"Student Name :\" +  name)\n",
        "print(\"Student Age : \" + str(age))\n",
        "weight = '60Kg'\n",
        "print(\"Student Weight : \" +  weight)\n",
        "print(\"Student is Present : \" + str(is_present))\n",
        "\n",
        "# Method Third for Concatenation use for \" f \" --> \"f string\"\n",
        "# it will both do formatting and typecasting\n",
        "print(f\"Student Name :  {name} \")\n",
        "print(f\"Student Age : {age}\" )\n",
        "weight = '60Kg'\n",
        "print(f\"Student Weight : {weight}\")\n",
        "print(f\"Student is Present : {is_present}\")\n",
        "\n"
      ],
      "metadata": {
        "colab": {
          "base_uri": "https://localhost:8080/"
        },
        "id": "nM82hwY7ngTP",
        "outputId": "01302953-4cc6-43e3-bfee-9fa82c55d593"
      },
      "execution_count": 50,
      "outputs": [
        {
          "output_type": "stream",
          "name": "stdout",
          "text": [
            "Nasir Saeed\n",
            "Student Name : Nasir\n",
            "Student Age :  5.0\n",
            "Student Weight :  60Kg\n",
            "Student is Present :  True\n",
            "Student Name :Nasir\n",
            "Student Age : 5.0\n",
            "Student Weight : 60Kg\n",
            "Student is Present : True\n",
            "Student Name :  Nasir \n",
            "Student Age : 5.0\n",
            "Student Weight : 60Kg\n",
            "Student is Present : True\n"
          ]
        }
      ]
    },
    {
      "cell_type": "code",
      "source": [
        "greet = \"Hello\"\n",
        "separator = \",\"\n",
        "endword = \"world\"\n",
        "punc = \"!\"\n",
        "print(greet, separator, endword, punc)"
      ],
      "metadata": {
        "colab": {
          "base_uri": "https://localhost:8080/"
        },
        "id": "FgWw8fnCnsl7",
        "outputId": "8eea1def-43d0-4613-a0ee-6ffdf38aed5e"
      },
      "execution_count": 51,
      "outputs": [
        {
          "output_type": "stream",
          "name": "stdout",
          "text": [
            "Hello , world !\n"
          ]
        }
      ]
    }
  ],
  "metadata": {
    "colab": {
      "toc_visible": true,
      "provenance": [],
      "collapsed_sections": [
        "WJblBAtcXLmh",
        "yVERYcilcTo_",
        "gRx2HBGnjBLa",
        "_BLNvh2FkUQi",
        "G0s4gTvhlyQi",
        "IqZBefFUndb6"
      ]
    },
    "kernelspec": {
      "display_name": "Python 3",
      "name": "python3"
    }
  },
  "nbformat": 4,
  "nbformat_minor": 0
}